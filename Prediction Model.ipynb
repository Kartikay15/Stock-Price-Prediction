{
 "cells": [
  {
   "cell_type": "code",
   "execution_count": 1,
   "id": "c8497516",
   "metadata": {},
   "outputs": [
    {
     "name": "stdout",
     "output_type": "stream",
     "text": [
      "Requirement already satisfied: pandas-datareader in c:\\users\\sharm\\appdata\\local\\programs\\python\\python310\\lib\\site-packages (0.10.0)\n",
      "Requirement already satisfied: pandas>=0.23 in c:\\users\\sharm\\appdata\\local\\programs\\python\\python310\\lib\\site-packages (from pandas-datareader) (1.4.3)\n",
      "Requirement already satisfied: requests>=2.19.0 in c:\\users\\sharm\\appdata\\local\\programs\\python\\python310\\lib\\site-packages (from pandas-datareader) (2.28.1)\n",
      "Requirement already satisfied: lxml in c:\\users\\sharm\\appdata\\local\\programs\\python\\python310\\lib\\site-packages (from pandas-datareader) (4.9.1)\n",
      "Requirement already satisfied: python-dateutil>=2.8.1 in c:\\users\\sharm\\appdata\\local\\programs\\python\\python310\\lib\\site-packages (from pandas>=0.23->pandas-datareader) (2.8.2)\n",
      "Requirement already satisfied: numpy>=1.21.0 in c:\\users\\sharm\\appdata\\local\\programs\\python\\python310\\lib\\site-packages (from pandas>=0.23->pandas-datareader) (1.23.1)\n",
      "Requirement already satisfied: pytz>=2020.1 in c:\\users\\sharm\\appdata\\local\\programs\\python\\python310\\lib\\site-packages (from pandas>=0.23->pandas-datareader) (2022.1)\n",
      "Requirement already satisfied: certifi>=2017.4.17 in c:\\users\\sharm\\appdata\\local\\programs\\python\\python310\\lib\\site-packages (from requests>=2.19.0->pandas-datareader) (2022.6.15)\n",
      "Requirement already satisfied: urllib3<1.27,>=1.21.1 in c:\\users\\sharm\\appdata\\local\\programs\\python\\python310\\lib\\site-packages (from requests>=2.19.0->pandas-datareader) (1.26.10)\n",
      "Requirement already satisfied: charset-normalizer<3,>=2 in c:\\users\\sharm\\appdata\\local\\programs\\python\\python310\\lib\\site-packages (from requests>=2.19.0->pandas-datareader) (2.1.0)\n",
      "Requirement already satisfied: idna<4,>=2.5 in c:\\users\\sharm\\appdata\\local\\programs\\python\\python310\\lib\\site-packages (from requests>=2.19.0->pandas-datareader) (3.3)\n",
      "Requirement already satisfied: six>=1.5 in c:\\users\\sharm\\appdata\\local\\programs\\python\\python310\\lib\\site-packages (from python-dateutil>=2.8.1->pandas>=0.23->pandas-datareader) (1.16.0)\n"
     ]
    }
   ],
   "source": [
    "import numpy as np\n",
    "import pandas as pd\n",
    "import matplotlib.pyplot as plt\n",
    "import pandas_datareader as data\n",
    "!pip install --upgrade pandas-datareader"
   ]
  },
  {
   "cell_type": "code",
   "execution_count": 2,
   "id": "40eec0ed",
   "metadata": {},
   "outputs": [
    {
     "data": {
      "text/html": [
       "<div>\n",
       "<style scoped>\n",
       "    .dataframe tbody tr th:only-of-type {\n",
       "        vertical-align: middle;\n",
       "    }\n",
       "\n",
       "    .dataframe tbody tr th {\n",
       "        vertical-align: top;\n",
       "    }\n",
       "\n",
       "    .dataframe thead th {\n",
       "        text-align: right;\n",
       "    }\n",
       "</style>\n",
       "<table border=\"1\" class=\"dataframe\">\n",
       "  <thead>\n",
       "    <tr style=\"text-align: right;\">\n",
       "      <th></th>\n",
       "      <th>High</th>\n",
       "      <th>Low</th>\n",
       "      <th>Open</th>\n",
       "      <th>Close</th>\n",
       "      <th>Volume</th>\n",
       "      <th>Adj Close</th>\n",
       "    </tr>\n",
       "    <tr>\n",
       "      <th>Date</th>\n",
       "      <th></th>\n",
       "      <th></th>\n",
       "      <th></th>\n",
       "      <th></th>\n",
       "      <th></th>\n",
       "      <th></th>\n",
       "    </tr>\n",
       "  </thead>\n",
       "  <tbody>\n",
       "    <tr>\n",
       "      <th>2009-12-31</th>\n",
       "      <td>7.619643</td>\n",
       "      <td>7.520000</td>\n",
       "      <td>7.611786</td>\n",
       "      <td>7.526071</td>\n",
       "      <td>352410800.0</td>\n",
       "      <td>6.434926</td>\n",
       "    </tr>\n",
       "    <tr>\n",
       "      <th>2010-01-04</th>\n",
       "      <td>7.660714</td>\n",
       "      <td>7.585000</td>\n",
       "      <td>7.622500</td>\n",
       "      <td>7.643214</td>\n",
       "      <td>493729600.0</td>\n",
       "      <td>6.535086</td>\n",
       "    </tr>\n",
       "    <tr>\n",
       "      <th>2010-01-05</th>\n",
       "      <td>7.699643</td>\n",
       "      <td>7.616071</td>\n",
       "      <td>7.664286</td>\n",
       "      <td>7.656429</td>\n",
       "      <td>601904800.0</td>\n",
       "      <td>6.546383</td>\n",
       "    </tr>\n",
       "    <tr>\n",
       "      <th>2010-01-06</th>\n",
       "      <td>7.686786</td>\n",
       "      <td>7.526786</td>\n",
       "      <td>7.656429</td>\n",
       "      <td>7.534643</td>\n",
       "      <td>552160000.0</td>\n",
       "      <td>6.442255</td>\n",
       "    </tr>\n",
       "    <tr>\n",
       "      <th>2010-01-07</th>\n",
       "      <td>7.571429</td>\n",
       "      <td>7.466071</td>\n",
       "      <td>7.562500</td>\n",
       "      <td>7.520714</td>\n",
       "      <td>477131200.0</td>\n",
       "      <td>6.430345</td>\n",
       "    </tr>\n",
       "  </tbody>\n",
       "</table>\n",
       "</div>"
      ],
      "text/plain": [
       "                High       Low      Open     Close       Volume  Adj Close\n",
       "Date                                                                      \n",
       "2009-12-31  7.619643  7.520000  7.611786  7.526071  352410800.0   6.434926\n",
       "2010-01-04  7.660714  7.585000  7.622500  7.643214  493729600.0   6.535086\n",
       "2010-01-05  7.699643  7.616071  7.664286  7.656429  601904800.0   6.546383\n",
       "2010-01-06  7.686786  7.526786  7.656429  7.534643  552160000.0   6.442255\n",
       "2010-01-07  7.571429  7.466071  7.562500  7.520714  477131200.0   6.430345"
      ]
     },
     "execution_count": 2,
     "metadata": {},
     "output_type": "execute_result"
    }
   ],
   "source": [
    "# We should take bigger timeframe for our model to be accurate\n",
    "start = '2010-01-01'\n",
    "end = '2022-07-12'\n",
    "\n",
    "# User can take any stock picker\n",
    "df = data.DataReader('AAPL','yahoo',start,end)\n",
    "df.head()"
   ]
  },
  {
   "cell_type": "code",
   "execution_count": 3,
   "id": "e22cb2d6",
   "metadata": {},
   "outputs": [
    {
     "data": {
      "text/html": [
       "<div>\n",
       "<style scoped>\n",
       "    .dataframe tbody tr th:only-of-type {\n",
       "        vertical-align: middle;\n",
       "    }\n",
       "\n",
       "    .dataframe tbody tr th {\n",
       "        vertical-align: top;\n",
       "    }\n",
       "\n",
       "    .dataframe thead th {\n",
       "        text-align: right;\n",
       "    }\n",
       "</style>\n",
       "<table border=\"1\" class=\"dataframe\">\n",
       "  <thead>\n",
       "    <tr style=\"text-align: right;\">\n",
       "      <th></th>\n",
       "      <th>High</th>\n",
       "      <th>Low</th>\n",
       "      <th>Open</th>\n",
       "      <th>Close</th>\n",
       "      <th>Volume</th>\n",
       "      <th>Adj Close</th>\n",
       "    </tr>\n",
       "    <tr>\n",
       "      <th>Date</th>\n",
       "      <th></th>\n",
       "      <th></th>\n",
       "      <th></th>\n",
       "      <th></th>\n",
       "      <th></th>\n",
       "      <th></th>\n",
       "    </tr>\n",
       "  </thead>\n",
       "  <tbody>\n",
       "    <tr>\n",
       "      <th>2022-07-06</th>\n",
       "      <td>144.119995</td>\n",
       "      <td>141.080002</td>\n",
       "      <td>141.350006</td>\n",
       "      <td>142.919998</td>\n",
       "      <td>74064300.0</td>\n",
       "      <td>142.919998</td>\n",
       "    </tr>\n",
       "    <tr>\n",
       "      <th>2022-07-07</th>\n",
       "      <td>146.550003</td>\n",
       "      <td>143.279999</td>\n",
       "      <td>143.289993</td>\n",
       "      <td>146.350006</td>\n",
       "      <td>66253700.0</td>\n",
       "      <td>146.350006</td>\n",
       "    </tr>\n",
       "    <tr>\n",
       "      <th>2022-07-08</th>\n",
       "      <td>147.550003</td>\n",
       "      <td>145.000000</td>\n",
       "      <td>145.259995</td>\n",
       "      <td>147.039993</td>\n",
       "      <td>64493200.0</td>\n",
       "      <td>147.039993</td>\n",
       "    </tr>\n",
       "    <tr>\n",
       "      <th>2022-07-11</th>\n",
       "      <td>146.639999</td>\n",
       "      <td>143.779999</td>\n",
       "      <td>145.669998</td>\n",
       "      <td>144.869995</td>\n",
       "      <td>63141600.0</td>\n",
       "      <td>144.869995</td>\n",
       "    </tr>\n",
       "    <tr>\n",
       "      <th>2022-07-12</th>\n",
       "      <td>148.449997</td>\n",
       "      <td>145.050003</td>\n",
       "      <td>145.759995</td>\n",
       "      <td>145.860001</td>\n",
       "      <td>77588800.0</td>\n",
       "      <td>145.860001</td>\n",
       "    </tr>\n",
       "  </tbody>\n",
       "</table>\n",
       "</div>"
      ],
      "text/plain": [
       "                  High         Low        Open       Close      Volume  \\\n",
       "Date                                                                     \n",
       "2022-07-06  144.119995  141.080002  141.350006  142.919998  74064300.0   \n",
       "2022-07-07  146.550003  143.279999  143.289993  146.350006  66253700.0   \n",
       "2022-07-08  147.550003  145.000000  145.259995  147.039993  64493200.0   \n",
       "2022-07-11  146.639999  143.779999  145.669998  144.869995  63141600.0   \n",
       "2022-07-12  148.449997  145.050003  145.759995  145.860001  77588800.0   \n",
       "\n",
       "             Adj Close  \n",
       "Date                    \n",
       "2022-07-06  142.919998  \n",
       "2022-07-07  146.350006  \n",
       "2022-07-08  147.039993  \n",
       "2022-07-11  144.869995  \n",
       "2022-07-12  145.860001  "
      ]
     },
     "execution_count": 3,
     "metadata": {},
     "output_type": "execute_result"
    }
   ],
   "source": [
    "df.tail()"
   ]
  },
  {
   "cell_type": "code",
   "execution_count": 4,
   "id": "8592ec02",
   "metadata": {},
   "outputs": [
    {
     "data": {
      "text/html": [
       "<div>\n",
       "<style scoped>\n",
       "    .dataframe tbody tr th:only-of-type {\n",
       "        vertical-align: middle;\n",
       "    }\n",
       "\n",
       "    .dataframe tbody tr th {\n",
       "        vertical-align: top;\n",
       "    }\n",
       "\n",
       "    .dataframe thead th {\n",
       "        text-align: right;\n",
       "    }\n",
       "</style>\n",
       "<table border=\"1\" class=\"dataframe\">\n",
       "  <thead>\n",
       "    <tr style=\"text-align: right;\">\n",
       "      <th></th>\n",
       "      <th>Date</th>\n",
       "      <th>High</th>\n",
       "      <th>Low</th>\n",
       "      <th>Open</th>\n",
       "      <th>Close</th>\n",
       "      <th>Volume</th>\n",
       "      <th>Adj Close</th>\n",
       "    </tr>\n",
       "  </thead>\n",
       "  <tbody>\n",
       "    <tr>\n",
       "      <th>0</th>\n",
       "      <td>2009-12-31</td>\n",
       "      <td>7.619643</td>\n",
       "      <td>7.520000</td>\n",
       "      <td>7.611786</td>\n",
       "      <td>7.526071</td>\n",
       "      <td>352410800.0</td>\n",
       "      <td>6.434926</td>\n",
       "    </tr>\n",
       "    <tr>\n",
       "      <th>1</th>\n",
       "      <td>2010-01-04</td>\n",
       "      <td>7.660714</td>\n",
       "      <td>7.585000</td>\n",
       "      <td>7.622500</td>\n",
       "      <td>7.643214</td>\n",
       "      <td>493729600.0</td>\n",
       "      <td>6.535086</td>\n",
       "    </tr>\n",
       "    <tr>\n",
       "      <th>2</th>\n",
       "      <td>2010-01-05</td>\n",
       "      <td>7.699643</td>\n",
       "      <td>7.616071</td>\n",
       "      <td>7.664286</td>\n",
       "      <td>7.656429</td>\n",
       "      <td>601904800.0</td>\n",
       "      <td>6.546383</td>\n",
       "    </tr>\n",
       "    <tr>\n",
       "      <th>3</th>\n",
       "      <td>2010-01-06</td>\n",
       "      <td>7.686786</td>\n",
       "      <td>7.526786</td>\n",
       "      <td>7.656429</td>\n",
       "      <td>7.534643</td>\n",
       "      <td>552160000.0</td>\n",
       "      <td>6.442255</td>\n",
       "    </tr>\n",
       "    <tr>\n",
       "      <th>4</th>\n",
       "      <td>2010-01-07</td>\n",
       "      <td>7.571429</td>\n",
       "      <td>7.466071</td>\n",
       "      <td>7.562500</td>\n",
       "      <td>7.520714</td>\n",
       "      <td>477131200.0</td>\n",
       "      <td>6.430345</td>\n",
       "    </tr>\n",
       "  </tbody>\n",
       "</table>\n",
       "</div>"
      ],
      "text/plain": [
       "        Date      High       Low      Open     Close       Volume  Adj Close\n",
       "0 2009-12-31  7.619643  7.520000  7.611786  7.526071  352410800.0   6.434926\n",
       "1 2010-01-04  7.660714  7.585000  7.622500  7.643214  493729600.0   6.535086\n",
       "2 2010-01-05  7.699643  7.616071  7.664286  7.656429  601904800.0   6.546383\n",
       "3 2010-01-06  7.686786  7.526786  7.656429  7.534643  552160000.0   6.442255\n",
       "4 2010-01-07  7.571429  7.466071  7.562500  7.520714  477131200.0   6.430345"
      ]
     },
     "execution_count": 4,
     "metadata": {},
     "output_type": "execute_result"
    }
   ],
   "source": [
    "df = df.reset_index()\n",
    "df.head()"
   ]
  },
  {
   "cell_type": "code",
   "execution_count": 5,
   "id": "c56c21e6",
   "metadata": {},
   "outputs": [
    {
     "data": {
      "text/html": [
       "<div>\n",
       "<style scoped>\n",
       "    .dataframe tbody tr th:only-of-type {\n",
       "        vertical-align: middle;\n",
       "    }\n",
       "\n",
       "    .dataframe tbody tr th {\n",
       "        vertical-align: top;\n",
       "    }\n",
       "\n",
       "    .dataframe thead th {\n",
       "        text-align: right;\n",
       "    }\n",
       "</style>\n",
       "<table border=\"1\" class=\"dataframe\">\n",
       "  <thead>\n",
       "    <tr style=\"text-align: right;\">\n",
       "      <th></th>\n",
       "      <th>High</th>\n",
       "      <th>Low</th>\n",
       "      <th>Open</th>\n",
       "      <th>Close</th>\n",
       "      <th>Volume</th>\n",
       "    </tr>\n",
       "  </thead>\n",
       "  <tbody>\n",
       "    <tr>\n",
       "      <th>0</th>\n",
       "      <td>7.619643</td>\n",
       "      <td>7.520000</td>\n",
       "      <td>7.611786</td>\n",
       "      <td>7.526071</td>\n",
       "      <td>352410800.0</td>\n",
       "    </tr>\n",
       "    <tr>\n",
       "      <th>1</th>\n",
       "      <td>7.660714</td>\n",
       "      <td>7.585000</td>\n",
       "      <td>7.622500</td>\n",
       "      <td>7.643214</td>\n",
       "      <td>493729600.0</td>\n",
       "    </tr>\n",
       "    <tr>\n",
       "      <th>2</th>\n",
       "      <td>7.699643</td>\n",
       "      <td>7.616071</td>\n",
       "      <td>7.664286</td>\n",
       "      <td>7.656429</td>\n",
       "      <td>601904800.0</td>\n",
       "    </tr>\n",
       "    <tr>\n",
       "      <th>3</th>\n",
       "      <td>7.686786</td>\n",
       "      <td>7.526786</td>\n",
       "      <td>7.656429</td>\n",
       "      <td>7.534643</td>\n",
       "      <td>552160000.0</td>\n",
       "    </tr>\n",
       "    <tr>\n",
       "      <th>4</th>\n",
       "      <td>7.571429</td>\n",
       "      <td>7.466071</td>\n",
       "      <td>7.562500</td>\n",
       "      <td>7.520714</td>\n",
       "      <td>477131200.0</td>\n",
       "    </tr>\n",
       "  </tbody>\n",
       "</table>\n",
       "</div>"
      ],
      "text/plain": [
       "       High       Low      Open     Close       Volume\n",
       "0  7.619643  7.520000  7.611786  7.526071  352410800.0\n",
       "1  7.660714  7.585000  7.622500  7.643214  493729600.0\n",
       "2  7.699643  7.616071  7.664286  7.656429  601904800.0\n",
       "3  7.686786  7.526786  7.656429  7.534643  552160000.0\n",
       "4  7.571429  7.466071  7.562500  7.520714  477131200.0"
      ]
     },
     "execution_count": 5,
     "metadata": {},
     "output_type": "execute_result"
    }
   ],
   "source": [
    "# Dropping Date and Adj Close Column\n",
    "df = df.drop(['Date','Adj Close'], axis = 1)\n",
    "df.head()"
   ]
  },
  {
   "cell_type": "code",
   "execution_count": 6,
   "id": "2fa65ac0",
   "metadata": {},
   "outputs": [
    {
     "data": {
      "text/plain": [
       "[<matplotlib.lines.Line2D at 0x2b6f889da80>]"
      ]
     },
     "execution_count": 6,
     "metadata": {},
     "output_type": "execute_result"
    },
    {
     "data": {
      "image/png": "[encoded data removed]",
      "text/plain": [
       "<Figure size 432x288 with 1 Axes>"
      ]
     },
     "metadata": {
      "needs_background": "light"
     },
     "output_type": "display_data"
    }
   ],
   "source": [
    "# Plotting DataFrame\n",
    "plt.plot(df.Close)"
   ]
  },
  {
   "cell_type": "code",
   "execution_count": 7,
   "id": "fa003e4a",
   "metadata": {},
   "outputs": [
    {
     "data": {
      "text/html": [
       "<div>\n",
       "<style scoped>\n",
       "    .dataframe tbody tr th:only-of-type {\n",
       "        vertical-align: middle;\n",
       "    }\n",
       "\n",
       "    .dataframe tbody tr th {\n",
       "        vertical-align: top;\n",
       "    }\n",
       "\n",
       "    .dataframe thead th {\n",
       "        text-align: right;\n",
       "    }\n",
       "</style>\n",
       "<table border=\"1\" class=\"dataframe\">\n",
       "  <thead>\n",
       "    <tr style=\"text-align: right;\">\n",
       "      <th></th>\n",
       "      <th>High</th>\n",
       "      <th>Low</th>\n",
       "      <th>Open</th>\n",
       "      <th>Close</th>\n",
       "      <th>Volume</th>\n",
       "    </tr>\n",
       "  </thead>\n",
       "  <tbody>\n",
       "    <tr>\n",
       "      <th>0</th>\n",
       "      <td>7.619643</td>\n",
       "      <td>7.520000</td>\n",
       "      <td>7.611786</td>\n",
       "      <td>7.526071</td>\n",
       "      <td>352410800.0</td>\n",
       "    </tr>\n",
       "    <tr>\n",
       "      <th>1</th>\n",
       "      <td>7.660714</td>\n",
       "      <td>7.585000</td>\n",
       "      <td>7.622500</td>\n",
       "      <td>7.643214</td>\n",
       "      <td>493729600.0</td>\n",
       "    </tr>\n",
       "    <tr>\n",
       "      <th>2</th>\n",
       "      <td>7.699643</td>\n",
       "      <td>7.616071</td>\n",
       "      <td>7.664286</td>\n",
       "      <td>7.656429</td>\n",
       "      <td>601904800.0</td>\n",
       "    </tr>\n",
       "    <tr>\n",
       "      <th>3</th>\n",
       "      <td>7.686786</td>\n",
       "      <td>7.526786</td>\n",
       "      <td>7.656429</td>\n",
       "      <td>7.534643</td>\n",
       "      <td>552160000.0</td>\n",
       "    </tr>\n",
       "    <tr>\n",
       "      <th>4</th>\n",
       "      <td>7.571429</td>\n",
       "      <td>7.466071</td>\n",
       "      <td>7.562500</td>\n",
       "      <td>7.520714</td>\n",
       "      <td>477131200.0</td>\n",
       "    </tr>\n",
       "    <tr>\n",
       "      <th>...</th>\n",
       "      <td>...</td>\n",
       "      <td>...</td>\n",
       "      <td>...</td>\n",
       "      <td>...</td>\n",
       "      <td>...</td>\n",
       "    </tr>\n",
       "    <tr>\n",
       "      <th>3148</th>\n",
       "      <td>144.119995</td>\n",
       "      <td>141.080002</td>\n",
       "      <td>141.350006</td>\n",
       "      <td>142.919998</td>\n",
       "      <td>74064300.0</td>\n",
       "    </tr>\n",
       "    <tr>\n",
       "      <th>3149</th>\n",
       "      <td>146.550003</td>\n",
       "      <td>143.279999</td>\n",
       "      <td>143.289993</td>\n",
       "      <td>146.350006</td>\n",
       "      <td>66253700.0</td>\n",
       "    </tr>\n",
       "    <tr>\n",
       "      <th>3150</th>\n",
       "      <td>147.550003</td>\n",
       "      <td>145.000000</td>\n",
       "      <td>145.259995</td>\n",
       "      <td>147.039993</td>\n",
       "      <td>64493200.0</td>\n",
       "    </tr>\n",
       "    <tr>\n",
       "      <th>3151</th>\n",
       "      <td>146.639999</td>\n",
       "      <td>143.779999</td>\n",
       "      <td>145.669998</td>\n",
       "      <td>144.869995</td>\n",
       "      <td>63141600.0</td>\n",
       "    </tr>\n",
       "    <tr>\n",
       "      <th>3152</th>\n",
       "      <td>148.449997</td>\n",
       "      <td>145.050003</td>\n",
       "      <td>145.759995</td>\n",
       "      <td>145.860001</td>\n",
       "      <td>77588800.0</td>\n",
       "    </tr>\n",
       "  </tbody>\n",
       "</table>\n",
       "<p>3153 rows × 5 columns</p>\n",
       "</div>"
      ],
      "text/plain": [
       "            High         Low        Open       Close       Volume\n",
       "0       7.619643    7.520000    7.611786    7.526071  352410800.0\n",
       "1       7.660714    7.585000    7.622500    7.643214  493729600.0\n",
       "2       7.699643    7.616071    7.664286    7.656429  601904800.0\n",
       "3       7.686786    7.526786    7.656429    7.534643  552160000.0\n",
       "4       7.571429    7.466071    7.562500    7.520714  477131200.0\n",
       "...          ...         ...         ...         ...          ...\n",
       "3148  144.119995  141.080002  141.350006  142.919998   74064300.0\n",
       "3149  146.550003  143.279999  143.289993  146.350006   66253700.0\n",
       "3150  147.550003  145.000000  145.259995  147.039993   64493200.0\n",
       "3151  146.639999  143.779999  145.669998  144.869995   63141600.0\n",
       "3152  148.449997  145.050003  145.759995  145.860001   77588800.0\n",
       "\n",
       "[3153 rows x 5 columns]"
      ]
     },
     "execution_count": 7,
     "metadata": {},
     "output_type": "execute_result"
    }
   ],
   "source": [
    "df"
   ]
  },
  {
   "cell_type": "code",
   "execution_count": 8,
   "id": "780911e8",
   "metadata": {},
   "outputs": [
    {
     "data": {
      "text/plain": [
       "0              NaN\n",
       "1              NaN\n",
       "2              NaN\n",
       "3              NaN\n",
       "4              NaN\n",
       "           ...    \n",
       "3148    156.230401\n",
       "3149    155.972701\n",
       "3150    155.756701\n",
       "3151    155.516600\n",
       "3152    155.247301\n",
       "Name: Close, Length: 3153, dtype: float64"
      ]
     },
     "execution_count": 8,
     "metadata": {},
     "output_type": "execute_result"
    }
   ],
   "source": [
    "# If 100 days moving average if above 200 days moving average it means stock prices are inflating.\n",
    "# 100 days moving average\n",
    "# Moving average for first 100 days is not defined as we need at least 100\n",
    "# days data to get 100 day moving average\n",
    "ma100 = df.Close.rolling(100).mean()\n",
    "ma100"
   ]
  },
  {
   "cell_type": "code",
   "execution_count": 9,
   "id": "2ef0c2b5",
   "metadata": {},
   "outputs": [
    {
     "data": {
      "text/plain": [
       "[<matplotlib.lines.Line2D at 0x2b6f8671840>]"
      ]
     },
     "execution_count": 9,
     "metadata": {},
     "output_type": "execute_result"
    },
    {
     "data": {
      "image/png": "[encoded data removed]",
      "text/plain": [
       "<Figure size 864x432 with 1 Axes>"
      ]
     },
     "metadata": {
      "needs_background": "light"
     },
     "output_type": "display_data"
    }
   ],
   "source": [
    "# Plotting 100 days moving average graph\n",
    "plt.figure(figsize = (12,6))\n",
    "plt.plot(df.Close)\n",
    "plt.plot(ma100,'red')"
   ]
  },
  {
   "cell_type": "code",
   "execution_count": 10,
   "id": "19eb532d",
   "metadata": {},
   "outputs": [
    {
     "data": {
      "text/plain": [
       "0             NaN\n",
       "1             NaN\n",
       "2             NaN\n",
       "3             NaN\n",
       "4             NaN\n",
       "          ...    \n",
       "3148    158.25365\n",
       "3149    158.27070\n",
       "3150    158.28875\n",
       "3151    158.28385\n",
       "3152    158.27900\n",
       "Name: Close, Length: 3153, dtype: float64"
      ]
     },
     "execution_count": 10,
     "metadata": {},
     "output_type": "execute_result"
    }
   ],
   "source": [
    "ma200 = df.Close.rolling(200).mean()\n",
    "ma200"
   ]
  },
  {
   "cell_type": "code",
   "execution_count": 11,
   "id": "4c0cac10",
   "metadata": {},
   "outputs": [
    {
     "data": {
      "text/plain": [
       "[<matplotlib.lines.Line2D at 0x2b6f876eec0>]"
      ]
     },
     "execution_count": 11,
     "metadata": {},
     "output_type": "execute_result"
    },
    {
     "data": {
      "image/png": "[encoded data removed]",
      "text/plain": [
       "<Figure size 864x432 with 1 Axes>"
      ]
     },
     "metadata": {
      "needs_background": "light"
     },
     "output_type": "display_data"
    }
   ],
   "source": [
    "# Plotting 200 days moving average graph\n",
    "plt.figure(figsize = (12,6))\n",
    "plt.plot(df.Close)\n",
    "plt.plot(ma100,'r')\n",
    "plt.plot(ma200,'g')"
   ]
  },
  {
   "cell_type": "code",
   "execution_count": 12,
   "id": "49841454",
   "metadata": {},
   "outputs": [
    {
     "data": {
      "text/plain": [
       "(3153, 5)"
      ]
     },
     "execution_count": 12,
     "metadata": {},
     "output_type": "execute_result"
    }
   ],
   "source": [
    "df.shape"
   ]
  },
  {
   "cell_type": "code",
   "execution_count": 13,
   "id": "2e1620ab",
   "metadata": {},
   "outputs": [
    {
     "name": "stdout",
     "output_type": "stream",
     "text": [
      "(2207, 1)\n",
      "(946, 1)\n"
     ]
    }
   ],
   "source": [
    "# Splitting data into training and testing\n",
    "# We take 70% data for training and 30% for testing\n",
    "data_training = pd.DataFrame(df['Close'][0:int(len(df)*0.7)])\n",
    "data_testing = pd.DataFrame(df['Close'][int(len(df)*0.7):int (len(df))])\n",
    "print(data_training.shape)\n",
    "print(data_testing.shape)"
   ]
  },
  {
   "cell_type": "code",
   "execution_count": 14,
   "id": "c157d895",
   "metadata": {},
   "outputs": [],
   "source": [
    "# Now we should move on to scaling down data for LSTM model\n",
    "# We have to scale down it between 0 and 1\n",
    "from sklearn.preprocessing import MinMaxScaler\n",
    "scaler = MinMaxScaler(feature_range = (0,1))"
   ]
  },
  {
   "cell_type": "code",
   "execution_count": 15,
   "id": "b5dc9c29",
   "metadata": {},
   "outputs": [
    {
     "data": {
      "text/plain": [
       "array([[0.01304067],\n",
       "       [0.01533047],\n",
       "       [0.01558878],\n",
       "       ...,\n",
       "       [1.        ],\n",
       "       [0.98006198],\n",
       "       [0.96198089]])"
      ]
     },
     "execution_count": 15,
     "metadata": {},
     "output_type": "execute_result"
    }
   ],
   "source": [
    "# scaler.fit_transform return an array\n",
    "data_training_array = scaler.fit_transform(data_training)\n",
    "data_training_array"
   ]
  },
  {
   "cell_type": "code",
   "execution_count": 16,
   "id": "2e1e3135",
   "metadata": {},
   "outputs": [
    {
     "data": {
      "text/plain": [
       "(2207, 1)"
      ]
     },
     "execution_count": 16,
     "metadata": {},
     "output_type": "execute_result"
    }
   ],
   "source": [
    "# Shape of data training array\n",
    "data_training_array.shape"
   ]
  },
  {
   "cell_type": "code",
   "execution_count": 17,
   "id": "91314b90",
   "metadata": {},
   "outputs": [],
   "source": [
    "# First 100 days will be x_train\n",
    "# And predicted value will be y_train\n",
    "# In short x_train predicts y_train\n",
    "x_train = []\n",
    "y_train = [] \n",
    "for i in range(100,data_training_array.shape[0]):\n",
    "  x_train.append(data_training_array[i-100:i])\n",
    "  y_train.append(data_training_array[i,0])"
   ]
  },
  {
   "cell_type": "code",
   "execution_count": 18,
   "id": "d25604e7",
   "metadata": {},
   "outputs": [
    {
     "data": {
      "text/plain": [
       "(2107,)"
      ]
     },
     "execution_count": 18,
     "metadata": {},
     "output_type": "execute_result"
    }
   ],
   "source": [
    "# Converting x_train and y_train to numpy array\n",
    "x_train, y_train = np.array(x_train),np.array(y_train)\n",
    "x_train.shape\n",
    "y_train.shape"
   ]
  },
  {
   "cell_type": "code",
   "execution_count": 19,
   "id": "1a8b7880",
   "metadata": {},
   "outputs": [],
   "source": [
    "#***Creating ML Model***\n",
    "\n",
    "from keras.layers import Dense, Dropout, LSTM\n",
    "from keras.models import Sequential"
   ]
  },
  {
   "cell_type": "code",
   "execution_count": 20,
   "id": "04e7c680",
   "metadata": {},
   "outputs": [],
   "source": [
    "model = Sequential()\n",
    "# Adding Layers\n",
    "model.add(LSTM(units = 50, activation = 'relu', return_sequences = True, \n",
    "               input_shape=(x_train.shape[1],1)))\n",
    "model.add(Dropout(0.2))\n",
    "\n",
    "model.add(LSTM(units = 60, activation = 'relu', return_sequences = True))\n",
    "model.add(Dropout(0.3))\n",
    "\n",
    "model.add(LSTM(units = 80, activation = 'relu', return_sequences = True))\n",
    "model.add(Dropout(0.4))\n",
    "\n",
    "model.add(LSTM(units = 120, activation = 'relu'))\n",
    "model.add(Dropout(0.5))"
   ]
  },
  {
   "cell_type": "code",
   "execution_count": 21,
   "id": "b17cd007",
   "metadata": {},
   "outputs": [
    {
     "name": "stdout",
     "output_type": "stream",
     "text": [
      "Model: \"sequential\"\n",
      "_________________________________________________________________\n",
      " Layer (type)                Output Shape              Param #   \n",
      "=================================================================\n",
      " lstm (LSTM)                 (None, 100, 50)           10400     \n",
      "                                                                 \n",
      " dropout (Dropout)           (None, 100, 50)           0         \n",
      "                                                                 \n",
      " lstm_1 (LSTM)               (None, 100, 60)           26640     \n",
      "                                                                 \n",
      " dropout_1 (Dropout)         (None, 100, 60)           0         \n",
      "                                                                 \n",
      " lstm_2 (LSTM)               (None, 100, 80)           45120     \n",
      "                                                                 \n",
      " dropout_2 (Dropout)         (None, 100, 80)           0         \n",
      "                                                                 \n",
      " lstm_3 (LSTM)               (None, 120)               96480     \n",
      "                                                                 \n",
      " dropout_3 (Dropout)         (None, 120)               0         \n",
      "                                                                 \n",
      " dense (Dense)               (None, 1)                 121       \n",
      "                                                                 \n",
      "=================================================================\n",
      "Total params: 178,761\n",
      "Trainable params: 178,761\n",
      "Non-trainable params: 0\n",
      "_________________________________________________________________\n"
     ]
    }
   ],
   "source": [
    "# Connecting all layers\n",
    "model.add(Dense(units = 1))\n",
    "model.summary()"
   ]
  },
  {
   "cell_type": "code",
   "execution_count": null,
   "id": "f6c5bec0",
   "metadata": {},
   "outputs": [
    {
     "name": "stdout",
     "output_type": "stream",
     "text": [
      "Epoch 1/50\n",
      "66/66 [==============================] - 22s 248ms/step - loss: 0.0301\n",
      "Epoch 2/50\n",
      "66/66 [==============================] - 17s 250ms/step - loss: 0.0053\n",
      "Epoch 3/50\n",
      "66/66 [==============================] - 16s 246ms/step - loss: 0.0050\n",
      "Epoch 4/50\n",
      "66/66 [==============================] - 16s 244ms/step - loss: 0.0052\n",
      "Epoch 5/50\n",
      "66/66 [==============================] - 16s 249ms/step - loss: 0.0041\n",
      "Epoch 6/50\n",
      "66/66 [==============================] - 16s 247ms/step - loss: 0.0042\n",
      "Epoch 7/50\n",
      "66/66 [==============================] - 16s 249ms/step - loss: 0.0037\n",
      "Epoch 8/50\n",
      "66/66 [==============================] - 16s 249ms/step - loss: 0.0046\n",
      "Epoch 9/50\n",
      "66/66 [==============================] - 17s 254ms/step - loss: 0.0040\n",
      "Epoch 10/50\n",
      "66/66 [==============================] - 17s 263ms/step - loss: 0.0034\n",
      "Epoch 11/50\n",
      "66/66 [==============================] - 17s 259ms/step - loss: 0.0028\n",
      "Epoch 12/50\n",
      "66/66 [==============================] - 16s 244ms/step - loss: 0.0030\n",
      "Epoch 13/50\n",
      "66/66 [==============================] - 16s 245ms/step - loss: 0.0030\n",
      "Epoch 14/50\n",
      "66/66 [==============================] - 16s 238ms/step - loss: 0.0029\n",
      "Epoch 15/50\n",
      "66/66 [==============================] - 16s 243ms/step - loss: 0.0030\n",
      "Epoch 16/50\n",
      "66/66 [==============================] - 16s 243ms/step - loss: 0.0025\n",
      "Epoch 17/50\n",
      "66/66 [==============================] - 16s 249ms/step - loss: 0.0029\n",
      "Epoch 18/50\n",
      "66/66 [==============================] - 16s 241ms/step - loss: 0.0029\n",
      "Epoch 19/50\n",
      "66/66 [==============================] - 16s 241ms/step - loss: 0.0024\n",
      "Epoch 20/50\n",
      "66/66 [==============================] - 16s 241ms/step - loss: 0.0021\n",
      "Epoch 21/50\n",
      "66/66 [==============================] - 16s 240ms/step - loss: 0.0025\n",
      "Epoch 22/50\n",
      "66/66 [==============================] - 16s 245ms/step - loss: 0.0025\n",
      "Epoch 23/50\n",
      "66/66 [==============================] - 16s 243ms/step - loss: 0.0022\n",
      "Epoch 24/50\n",
      "66/66 [==============================] - 9s 133ms/step - loss: 0.0020\n",
      "Epoch 25/50\n",
      "66/66 [==============================] - 8s 119ms/step - loss: 0.0021\n",
      "Epoch 26/50\n",
      "66/66 [==============================] - 8s 117ms/step - loss: 0.0021\n",
      "Epoch 27/50\n",
      "66/66 [==============================] - 8s 117ms/step - loss: 0.0020\n",
      "Epoch 28/50\n",
      "66/66 [==============================] - 8s 115ms/step - loss: 0.0021\n",
      "Epoch 29/50\n",
      "66/66 [==============================] - 8s 115ms/step - loss: 0.0023\n",
      "Epoch 30/50\n",
      "66/66 [==============================] - 8s 119ms/step - loss: 0.0021\n",
      "Epoch 31/50\n",
      "66/66 [==============================] - 8s 116ms/step - loss: 0.0020\n",
      "Epoch 32/50\n",
      "66/66 [==============================] - 8s 116ms/step - loss: 0.0019\n",
      "Epoch 33/50\n",
      "66/66 [==============================] - 8s 119ms/step - loss: 0.0017\n",
      "Epoch 34/50\n",
      "66/66 [==============================] - 8s 126ms/step - loss: 0.0018\n",
      "Epoch 35/50\n",
      "66/66 [==============================] - 9s 131ms/step - loss: 0.0018\n",
      "Epoch 36/50\n",
      "66/66 [==============================] - 9s 133ms/step - loss: 0.0017\n",
      "Epoch 37/50\n",
      "66/66 [==============================] - 8s 125ms/step - loss: 0.0020\n",
      "Epoch 38/50\n",
      "66/66 [==============================] - 8s 122ms/step - loss: 0.0017\n",
      "Epoch 39/50\n",
      "66/66 [==============================] - 8s 118ms/step - loss: 0.0016\n",
      "Epoch 40/50\n",
      "66/66 [==============================] - 8s 117ms/step - loss: 0.0017\n",
      "Epoch 41/50\n",
      "66/66 [==============================] - 8s 117ms/step - loss: 0.0017\n",
      "Epoch 42/50\n",
      "66/66 [==============================] - 8s 118ms/step - loss: 0.0019\n",
      "Epoch 43/50\n",
      "66/66 [==============================] - 8s 117ms/step - loss: 0.0017\n",
      "Epoch 44/50\n",
      "66/66 [==============================] - 8s 118ms/step - loss: 0.0017\n",
      "Epoch 45/50\n",
      "66/66 [==============================] - 8s 118ms/step - loss: 0.0018\n",
      "Epoch 46/50\n",
      "36/66 [===============>..............] - ETA: 3s - loss: 0.0015"
     ]
    }
   ],
   "source": [
    "# Training Model\n",
    "model.compile(optimizer='adam', loss = 'mean_squared_error')\n",
    "model.fit(x_train,y_train, epochs = 50)"
   ]
  },
  {
   "cell_type": "code",
   "execution_count": null,
   "id": "1a3fb2a8",
   "metadata": {},
   "outputs": [],
   "source": [
    "model.save('keras_model.h5')"
   ]
  },
  {
   "cell_type": "code",
   "execution_count": null,
   "id": "2229bc31",
   "metadata": {},
   "outputs": [],
   "source": [
    "data_testing.head()\n",
    "past_100_days = data_training.tail(100)\n",
    "final_df = past_100_days.append(data_testing, ignore_index=True)\n",
    "final_df.head()\n",
    "# This is the testing data"
   ]
  },
  {
   "cell_type": "code",
   "execution_count": null,
   "id": "e506cbf9",
   "metadata": {},
   "outputs": [],
   "source": [
    "# To scale down input data\n",
    "input_data = scaler.fit_transform(final_df)\n",
    "input_data\n",
    "input_data.shape"
   ]
  },
  {
   "cell_type": "code",
   "execution_count": null,
   "id": "7d7ca2b1",
   "metadata": {},
   "outputs": [],
   "source": [
    "x_test = []\n",
    "y_test = []\n",
    "for i in range (100, input_data.shape[0]):\n",
    "  x_test.append(input_data[i-100:i])\n",
    "  y_test.append(input_data[i,0])\n",
    "x_test, y_test = np.array(x_test), np.array(y_test)\n",
    "print(x_test.shape)\n",
    "print(y_test.shape)"
   ]
  },
  {
   "cell_type": "code",
   "execution_count": null,
   "id": "e1649d92",
   "metadata": {},
   "outputs": [],
   "source": [
    "# Making predictions\n",
    "y_predicted = model.predict(x_test)\n",
    "y_predicted.shape"
   ]
  },
  {
   "cell_type": "code",
   "execution_count": null,
   "id": "d78d9faf",
   "metadata": {},
   "outputs": [],
   "source": [
    "y_test"
   ]
  },
  {
   "cell_type": "code",
   "execution_count": null,
   "id": "f1297a12",
   "metadata": {},
   "outputs": [],
   "source": [
    "y_predicted"
   ]
  },
  {
   "cell_type": "code",
   "execution_count": null,
   "id": "90283c8d",
   "metadata": {},
   "outputs": [],
   "source": [
    "scaler.scale_"
   ]
  },
  {
   "cell_type": "code",
   "execution_count": null,
   "id": "2bb01fe5",
   "metadata": {},
   "outputs": [],
   "source": [
    "scale_factor = 1/0.00682769\n",
    "y_predicted = y_predicted*scale_factor\n",
    "y_test = y_test * scale_factor"
   ]
  },
  {
   "cell_type": "code",
   "execution_count": null,
   "id": "6d25b369",
   "metadata": {},
   "outputs": [],
   "source": [
    "plt.figure(figsize = (12,6))\n",
    "plt.plot(y_test ,'b',label='Original Price')\n",
    "plt.plot(y_predicted, 'r', label = 'Predicted Price')\n",
    "plt.xlabel('Time')\n",
    "plt.ylabel('Price')\n",
    "plt.legend()\n",
    "plt.show()"
   ]
  }
 ],
 "metadata": {
  "kernelspec": {
   "display_name": "Python 3 (ipykernel)",
   "language": "python",
   "name": "python3"
  },
  "language_info": {
   "codemirror_mode": {
    "name": "ipython",
    "version": 3
   },
   "file_extension": ".py",
   "mimetype": "text/x-python",
   "name": "python",
   "nbconvert_exporter": "python",
   "pygments_lexer": "ipython3",
   "version": "3.10.5"
  }
 },
 "nbformat": 4,
 "nbformat_minor": 5
}
